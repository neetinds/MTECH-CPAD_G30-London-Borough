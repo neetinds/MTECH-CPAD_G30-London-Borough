{
  "nbformat": 4,
  "nbformat_minor": 0,
  "metadata": {
    "colab": {
      "name": "Stock Price Prediction - Using LSTM & ARIMA.ipynb",
      "provenance": [],
      "collapsed_sections": [],
      "authorship_tag": "ABX9TyPNvonxMyQzWJfMUAQOrTmY",
      "include_colab_link": true
    },
    "kernelspec": {
      "name": "python3",
      "display_name": "Python 3"
    },
    "language_info": {
      "name": "python"
    }
  },
  "cells": [
    {
      "cell_type": "markdown",
      "metadata": {
        "id": "view-in-github",
        "colab_type": "text"
      },
      "source": [
        "<a href=\"https://colab.research.google.com/github/neetinds/MTECH-CPAD_G30-London-Borough/blob/main/MTECH_Stock_Price_Prediction_Using_LSTM_%26_ARIMA.ipynb\" target=\"_parent\"><img src=\"https://colab.research.google.com/assets/colab-badge.svg\" alt=\"Open In Colab\"/></a>"
      ]
    },
    {
      "cell_type": "markdown",
      "metadata": {
        "id": "27uKvhb2xp0v"
      },
      "source": [
        "# **Stock Price Prediction Using LSTM & ARIMA**\n",
        "\n",
        "\n",
        "\n"
      ]
    },
    {
      "cell_type": "markdown",
      "metadata": {
        "id": "GmFu3gFixct3"
      },
      "source": [
        "## **1. Stock Price Predicting with LSTM**\n",
        "\n",
        "Neural Networks have been demonstrated to be very powerful in solving the real-world problems like imaging and natural language processing. Interested in stock price movements, I am therefore motivated and curious about employing nerual nets to approach financial time series problems of its kind.\n",
        "\n",
        "Unlike common regression predictions, time series problems are more difficult due to sequence dependence within the input data variables. Among various neural nets, Long Short-Term Memory (LSTM), a type of recurrent neural network, has been proven to take care of complex time series predictions. So I implement LSTM to Infosys's stock prices (INFY)"
      ]
    },
    {
      "cell_type": "code",
      "metadata": {
        "id": "Wcw8RybPkFvN"
      },
      "source": [
        "import numpy as np # linear algebra\n",
        "import pandas as pd # data processing, CSV file I/O (e.g. pd.read_csv)\n",
        "import matplotlib.pyplot as plt\n",
        "from datetime import datetime\n",
        "from sklearn import preprocessing\n",
        "import pandas_datareader as web\n",
        "from sklearn.preprocessing import MinMaxScaler\n",
        "from keras.models import Sequential\n",
        "from keras.layers import Dense, LSTM\n",
        "import math"
      ],
      "execution_count": 5,
      "outputs": []
    },
    {
      "cell_type": "markdown",
      "metadata": {
        "id": "Od_m3SkCyLGH"
      },
      "source": [
        "Mount my GDRIVE"
      ]
    },
    {
      "cell_type": "code",
      "metadata": {
        "colab": {
          "base_uri": "https://localhost:8080/"
        },
        "id": "OQQ7XO7vkKSD",
        "outputId": "c8b98fd0-9a70-4d65-c169-d9085b8981cf"
      },
      "source": [
        "from google.colab import drive\n",
        "drive.mount('/content/gdrive')"
      ],
      "execution_count": 6,
      "outputs": [
        {
          "output_type": "stream",
          "name": "stdout",
          "text": [
            "Drive already mounted at /content/gdrive; to attempt to forcibly remount, call drive.mount(\"/content/gdrive\", force_remount=True).\n"
          ]
        }
      ]
    },
    {
      "cell_type": "markdown",
      "metadata": {
        "id": "0vIrMGLPyVek"
      },
      "source": [
        "# 1.1 Load Data\n",
        "# LSTM Modeling For INFOSYS Stock Price\n",
        "Get up to five-year daily historical stock prices & volumes data from https://finance.yahoo.com/quote/INFY/history?p=INFY.\n",
        "\n",
        "Datasets consist of following columns:\n",
        "\n",
        "\n",
        "*   **Date Time** stamp of when data was collected, being used as index column;\n",
        "\n",
        "*   **Volume** The number of shares traded in INFY during a given trading day;\n",
        "\n",
        "\n",
        "\n",
        "*   **Open** The price at INFY upon the opening of an exchange on a given trading day\n",
        "\n",
        "\n",
        "*   **High** The highest price at which INFY traded during the course of the day\n",
        "\n",
        "*   **Low** The lowest price at which INFY traded during the course of the day;\n",
        "\n",
        "\n",
        "*   **Close** The final price at which INFY traded during the course of the day; it is also selected as our target data."
      ]
    },
    {
      "cell_type": "code",
      "metadata": {
        "id": "EwT-pj7dkd1m"
      },
      "source": [
        "data = pd.read_csv('/content/gdrive/MyDrive/Stock-Price-Prediction-main/Latest Dataset/INFY.csv')\n"
      ],
      "execution_count": 7,
      "outputs": []
    },
    {
      "cell_type": "code",
      "metadata": {
        "colab": {
          "base_uri": "https://localhost:8080/"
        },
        "id": "vcPgAzaakULY",
        "outputId": "baa083cb-b13b-46e8-887e-010b7a0a2c93"
      },
      "source": [
        "data.info()"
      ],
      "execution_count": 8,
      "outputs": [
        {
          "output_type": "stream",
          "name": "stdout",
          "text": [
            "<class 'pandas.core.frame.DataFrame'>\n",
            "RangeIndex: 3040 entries, 0 to 3039\n",
            "Data columns (total 7 columns):\n",
            " #   Column     Non-Null Count  Dtype  \n",
            "---  ------     --------------  -----  \n",
            " 0   Date       3040 non-null   object \n",
            " 1   Open       3040 non-null   float64\n",
            " 2   High       3040 non-null   float64\n",
            " 3   Low        3040 non-null   float64\n",
            " 4   Close      3040 non-null   float64\n",
            " 5   Adj Close  3040 non-null   float64\n",
            " 6   Volume     3040 non-null   int64  \n",
            "dtypes: float64(5), int64(1), object(1)\n",
            "memory usage: 166.4+ KB\n"
          ]
        }
      ]
    },
    {
      "cell_type": "code",
      "metadata": {
        "id": "xrwTGg41lGA0"
      },
      "source": [
        "#Change the date foramt and set it as index\n",
        "data['Date'] = pd.to_datetime(data['Date'])\n",
        "data.set_index('Date',inplace=True)"
      ],
      "execution_count": 9,
      "outputs": []
    },
    {
      "cell_type": "code",
      "metadata": {
        "colab": {
          "base_uri": "https://localhost:8080/"
        },
        "id": "cop1WFqXk2Zg",
        "outputId": "5ecc36d0-97bc-4001-92e9-348aaa90f4b5"
      },
      "source": [
        "data.shape\n"
      ],
      "execution_count": 10,
      "outputs": [
        {
          "output_type": "execute_result",
          "data": {
            "text/plain": [
              "(3040, 6)"
            ]
          },
          "metadata": {},
          "execution_count": 10
        }
      ]
    },
    {
      "cell_type": "code",
      "metadata": {
        "colab": {
          "base_uri": "https://localhost:8080/",
          "height": 521
        },
        "id": "XnBdbrqzlS_G",
        "outputId": "9ac7ace1-181d-40f8-9d57-f0d68684ea85"
      },
      "source": [
        "#plotting the data\n",
        "plt.figure(figsize=(16,8))\n",
        "plt.title('Close Price History')\n",
        "plt.plot(data['Close'], color='red')\n",
        "plt.xlabel('Date', fontsize=18)\n",
        "plt.ylabel('Close Price USD', fontsize = 18)\n",
        "plt.show()"
      ],
      "execution_count": 11,
      "outputs": [
        {
          "output_type": "display_data",
          "data": {
            "text/plain": [
              "<Figure size 1152x576 with 1 Axes>"
            ],
            "image/png": "[encoded data removed]"
          },
          "metadata": {
            "needs_background": "light"
          }
        }
      ]
    },
    {
      "cell_type": "markdown",
      "metadata": {
        "id": "e-ZI0Bp4z0nV"
      },
      "source": [
        "The next step is to split the data into training and test sets to avoid overfitting and to be able to investigate the generalization ability of our model. "
      ]
    },
    {
      "cell_type": "code",
      "metadata": {
        "colab": {
          "base_uri": "https://localhost:8080/"
        },
        "id": "ct9SoaLdlcfi",
        "outputId": "d14493c0-ffaf-49d2-f6cd-e4921c589ae0"
      },
      "source": [
        "# Create a new data frame with only 'Close column'\n",
        "data = data.filter(['Close'])\n",
        "dataset = data.values #convert the data frame to a numpy array\n",
        "training_data_len = math.ceil(len(dataset)*.7)  # number of rows to train the model on\n",
        "training_data_len"
      ],
      "execution_count": 12,
      "outputs": [
        {
          "output_type": "execute_result",
          "data": {
            "text/plain": [
              "2128"
            ]
          },
          "metadata": {},
          "execution_count": 12
        }
      ]
    },
    {
      "cell_type": "markdown",
      "metadata": {
        "id": "EGg0hbC_z9aq"
      },
      "source": [
        "**Scale the data**\n",
        "\n",
        "\n"
      ]
    },
    {
      "cell_type": "code",
      "metadata": {
        "colab": {
          "base_uri": "https://localhost:8080/"
        },
        "id": "nsCBYE3Ylo2r",
        "outputId": "1c4ca6e9-c005-4b05-c4cf-d9641f472c2f"
      },
      "source": [
        "#Scale the data\n",
        "scaler = MinMaxScaler(feature_range=(0,1))\n",
        "scaled_data = scaler.fit_transform(dataset)\n",
        "scaled_data"
      ],
      "execution_count": 13,
      "outputs": [
        {
          "output_type": "execute_result",
          "data": {
            "text/plain": [
              "array([[0.10844076],\n",
              "       [0.10972408],\n",
              "       [0.10464912],\n",
              "       ...,\n",
              "       [0.8222014 ],\n",
              "       [0.79513496],\n",
              "       [0.83480134]])"
            ]
          },
          "metadata": {},
          "execution_count": 13
        }
      ]
    },
    {
      "cell_type": "markdown",
      "metadata": {
        "id": "NEKElVeY0GDm"
      },
      "source": [
        "# **Create the training dataset, scaled training dataset**"
      ]
    },
    {
      "cell_type": "code",
      "metadata": {
        "colab": {
          "base_uri": "https://localhost:8080/"
        },
        "id": "9OruwkUJluKZ",
        "outputId": "dcf23e17-72a1-410a-f576-96bd76baeb4b"
      },
      "source": [
        "train_data = scaled_data[0:training_data_len, :]\n",
        "#Split the data into x_train, y_train datasets\n",
        "x_train = []\n",
        "y_train = []\n",
        "for i in range(60,len(train_data)):\n",
        "    x_train.append(train_data[i-60:i, 0])\n",
        "    y_train.append(train_data[i,0])\n",
        "    if i<=60:\n",
        "        print(x_train)\n",
        "        print(y_train)\n",
        "        print()"
      ],
      "execution_count": 14,
      "outputs": [
        {
          "output_type": "stream",
          "name": "stdout",
          "text": [
            "[array([0.10844076, 0.10972408, 0.10464912, 0.09467421, 0.09549087,\n",
            "       0.09718252, 0.11363238, 0.11894067, 0.12004899, 0.11532403,\n",
            "       0.11870734, 0.11042407, 0.10313247, 0.09298255, 0.09525754,\n",
            "       0.09269089, 0.09484921, 0.08265764, 0.08014933, 0.08569095,\n",
            "       0.08691594, 0.08767427, 0.07303272, 0.07443271, 0.07554103,\n",
            "       0.08802426, 0.08714927, 0.09391588, 0.09251589, 0.10103249,\n",
            "       0.10050749, 0.1030158 , 0.10394913, 0.1035408 , 0.10120749,\n",
            "       0.10674911, 0.10861576, 0.10925742, 0.11765735, 0.12197398,\n",
            "       0.12174065, 0.11678235, 0.12477395, 0.12658227, 0.12430729,\n",
            "       0.12623228, 0.1271656 , 0.12220731, 0.12448229, 0.12804059,\n",
            "       0.13399054, 0.13766551, 0.1314239 , 0.13661552, 0.14087382,\n",
            "       0.13562386, 0.13690719, 0.13270722, 0.12909058, 0.12576561])]\n",
            "[0.12039899105645499]\n",
            "\n"
          ]
        }
      ]
    },
    {
      "cell_type": "code",
      "metadata": {
        "id": "9ocT_DVul33u"
      },
      "source": [
        "#convert the x_train and y_train  to numppy array\n",
        "x_train,y_train = np.array(x_train), np.array(y_train)"
      ],
      "execution_count": 15,
      "outputs": []
    },
    {
      "cell_type": "code",
      "metadata": {
        "colab": {
          "base_uri": "https://localhost:8080/"
        },
        "id": "2pAqxKasl7JX",
        "outputId": "8b9d072d-5ce2-4598-bc0d-b8b9fd1cc101"
      },
      "source": [
        "#reshape the data\n",
        "x_train = np.reshape(x_train,(x_train.shape[0],x_train.shape[1],1))\n",
        "x_train.shape"
      ],
      "execution_count": 16,
      "outputs": [
        {
          "output_type": "execute_result",
          "data": {
            "text/plain": [
              "(2068, 60, 1)"
            ]
          },
          "metadata": {},
          "execution_count": 16
        }
      ]
    },
    {
      "cell_type": "code",
      "metadata": {
        "id": "imQv0214l-mt"
      },
      "source": [
        "#Buil the LSTM model\n",
        "model =Sequential()\n",
        "model.add(LSTM(64,return_sequences=True, input_shape=(x_train.shape[1],1)))\n",
        "model.add(LSTM(64, return_sequences= False))\n",
        "model.add(Dense(32))\n",
        "model.add(Dense(1))"
      ],
      "execution_count": 17,
      "outputs": []
    },
    {
      "cell_type": "code",
      "metadata": {
        "id": "rY8DEJg3mAzh"
      },
      "source": [
        "#Complie the model\n",
        "model.compile(optimizer='adam', loss='mean_squared_error')"
      ],
      "execution_count": 18,
      "outputs": []
    },
    {
      "cell_type": "code",
      "metadata": {
        "colab": {
          "base_uri": "https://localhost:8080/"
        },
        "id": "7-LSMPVgmG4x",
        "outputId": "3c17aa8b-a686-4b86-dd0c-c350fa1721ba"
      },
      "source": [
        "#Train the model\n",
        "model.fit(x_train,y_train, batch_size=1, epochs=10)"
      ],
      "execution_count": 19,
      "outputs": [
        {
          "output_type": "stream",
          "name": "stdout",
          "text": [
            "Epoch 1/10\n",
            "2068/2068 [==============================] - 52s 24ms/step - loss: 2.5749e-04\n",
            "Epoch 2/10\n",
            "2068/2068 [==============================] - 48s 23ms/step - loss: 1.1188e-04\n",
            "Epoch 3/10\n",
            "2068/2068 [==============================] - 49s 24ms/step - loss: 8.6325e-05\n",
            "Epoch 4/10\n",
            "2068/2068 [==============================] - 49s 24ms/step - loss: 9.3256e-05\n",
            "Epoch 5/10\n",
            "2068/2068 [==============================] - 49s 24ms/step - loss: 8.2520e-05\n",
            "Epoch 6/10\n",
            "2068/2068 [==============================] - 48s 23ms/step - loss: 7.4800e-05\n",
            "Epoch 7/10\n",
            "2068/2068 [==============================] - 48s 23ms/step - loss: 7.2719e-05\n",
            "Epoch 8/10\n",
            "2068/2068 [==============================] - 48s 23ms/step - loss: 7.3981e-05\n",
            "Epoch 9/10\n",
            "2068/2068 [==============================] - 48s 23ms/step - loss: 6.6787e-05\n",
            "Epoch 10/10\n",
            "2068/2068 [==============================] - 49s 23ms/step - loss: 6.7043e-05\n"
          ]
        },
        {
          "output_type": "execute_result",
          "data": {
            "text/plain": [
              "<keras.callbacks.History at 0x7f8d94d3b9d0>"
            ]
          },
          "metadata": {},
          "execution_count": 19
        }
      ]
    },
    {
      "cell_type": "code",
      "metadata": {
        "id": "7ycrjkcWmQlf"
      },
      "source": [
        "#create the testing data sets\n",
        "#create a new array containing scale values from index 1763 to 2518\n",
        "test_data= scaled_data[training_data_len-60:, :]\n",
        "#create the data sets x_test and y_test\n",
        "x_test = []\n",
        "y_test = dataset[training_data_len:,:]\n",
        "for i in range(60,len(test_data)):\n",
        "    x_test.append(test_data[i-60:i,0])"
      ],
      "execution_count": 20,
      "outputs": []
    },
    {
      "cell_type": "code",
      "metadata": {
        "id": "0kGTUGvSmweu"
      },
      "source": [
        "#convert the data to a numpy array\n",
        "x_test = np.array(x_test)"
      ],
      "execution_count": 21,
      "outputs": []
    },
    {
      "cell_type": "code",
      "metadata": {
        "colab": {
          "base_uri": "https://localhost:8080/"
        },
        "id": "5u9duzWi1jyC",
        "outputId": "ae7f2055-cb39-4d79-c4bf-fdb0a36be42a"
      },
      "source": [
        "y_test.shape"
      ],
      "execution_count": 22,
      "outputs": [
        {
          "output_type": "execute_result",
          "data": {
            "text/plain": [
              "(912, 1)"
            ]
          },
          "metadata": {},
          "execution_count": 22
        }
      ]
    },
    {
      "cell_type": "code",
      "metadata": {
        "colab": {
          "base_uri": "https://localhost:8080/"
        },
        "id": "Xz2yldkIm19h",
        "outputId": "1c9f4759-bfdf-4ff1-e81e-5de9db0e40b4"
      },
      "source": [
        "#reshape the data\n",
        "x_test = np.reshape(x_test, (x_test.shape[0], x_test.shape[1],1))\n",
        "x_test.shape"
      ],
      "execution_count": 23,
      "outputs": [
        {
          "output_type": "execute_result",
          "data": {
            "text/plain": [
              "(912, 60, 1)"
            ]
          },
          "metadata": {},
          "execution_count": 23
        }
      ]
    },
    {
      "cell_type": "code",
      "metadata": {
        "id": "tMtWX7DAm5p6"
      },
      "source": [
        "#predicting the data\n",
        "predictions = model.predict(x_test)\n",
        "predictions = scaler.inverse_transform(predictions)"
      ],
      "execution_count": 24,
      "outputs": []
    },
    {
      "cell_type": "code",
      "metadata": {
        "colab": {
          "base_uri": "https://localhost:8080/"
        },
        "id": "qQzOUDUs1ezB",
        "outputId": "df2f4e2b-4eee-44e8-e552-7d74924a2850"
      },
      "source": [
        "predictions.shape"
      ],
      "execution_count": 25,
      "outputs": [
        {
          "output_type": "execute_result",
          "data": {
            "text/plain": [
              "(912, 1)"
            ]
          },
          "metadata": {},
          "execution_count": 25
        }
      ]
    },
    {
      "cell_type": "code",
      "metadata": {
        "colab": {
          "base_uri": "https://localhost:8080/"
        },
        "id": "_bjMCVHCm8aw",
        "outputId": "caa1c334-3afd-4c08-ff70-c74aa8530bc9"
      },
      "source": [
        "#get the root mean square error(RMSE)\n",
        "rmse = np.sqrt(np.mean(predictions - y_test)**2)\n",
        "rmse"
      ],
      "execution_count": 26,
      "outputs": [
        {
          "output_type": "execute_result",
          "data": {
            "text/plain": [
              "0.6213170811376738"
            ]
          },
          "metadata": {},
          "execution_count": 26
        }
      ]
    },
    {
      "cell_type": "code",
      "metadata": {
        "colab": {
          "base_uri": "https://localhost:8080/",
          "height": 643
        },
        "id": "YJ_qwlf_nAaO",
        "outputId": "3d0fa277-2a8c-4b2f-f351-8154b4fe4857"
      },
      "source": [
        "#plot the data\n",
        "train = data[:training_data_len]\n",
        "valid = data[training_data_len:]\n",
        "valid['Predictions'] = predictions\n",
        "#Visialization the data\n",
        "plt.figure(figsize=(16,8))\n",
        "plt.title('Model')\n",
        "plt.xlabel('Date', fontsize=18)\n",
        "plt.ylabel('Close Price' ,fontsize=18)\n",
        "plt.plot(train['Close'],linewidth=3.5)\n",
        "plt.plot(valid[['Close','Predictions']],linewidth=3.5)\n",
        "plt.legend(['Train','Valid','Predictions'])"
      ],
      "execution_count": 27,
      "outputs": [
        {
          "output_type": "stream",
          "name": "stderr",
          "text": [
            "/usr/local/lib/python3.7/dist-packages/ipykernel_launcher.py:4: SettingWithCopyWarning: \n",
            "A value is trying to be set on a copy of a slice from a DataFrame.\n",
            "Try using .loc[row_indexer,col_indexer] = value instead\n",
            "\n",
            "See the caveats in the documentation: https://pandas.pydata.org/pandas-docs/stable/user_guide/indexing.html#returning-a-view-versus-a-copy\n",
            "  after removing the cwd from sys.path.\n"
          ]
        },
        {
          "output_type": "execute_result",
          "data": {
            "text/plain": [
              "<matplotlib.legend.Legend at 0x7f8d945395d0>"
            ]
          },
          "metadata": {},
          "execution_count": 27
        },
        {
          "output_type": "display_data",
          "data": {
            "text/plain": [
              "<Figure size 1152x576 with 1 Axes>"
            ],
            "image/png": "[encoded data removed]"
          },
          "metadata": {
            "needs_background": "light"
          }
        }
      ]
    },
    {
      "cell_type": "code",
      "metadata": {
        "colab": {
          "base_uri": "https://localhost:8080/",
          "height": 455
        },
        "id": "bwTZeoaWoSl_",
        "outputId": "2e72cfe2-e5f9-46f7-b17e-f95fc13f992e"
      },
      "source": [
        "#show the valid and predicted price\n",
        "valid"
      ],
      "execution_count": 28,
      "outputs": [
        {
          "output_type": "execute_result",
          "data": {
            "text/plain": [
              "                Close  Predictions\n",
              "Date                              \n",
              "2018-06-18   9.220000     9.441658\n",
              "2018-06-19   9.100000     9.339051\n",
              "2018-06-20   9.080000     9.226528\n",
              "2018-06-21   9.115000     9.192428\n",
              "2018-06-22   9.360000     9.222630\n",
              "...               ...          ...\n",
              "2022-01-24  22.940001    20.181664\n",
              "2022-01-25  22.480000    19.929651\n",
              "2022-01-26  22.389999    19.666887\n",
              "2022-01-27  21.809999    19.635632\n",
              "2022-01-28  22.660000    19.328825\n",
              "\n",
              "[912 rows x 2 columns]"
            ],
            "text/html": [
              "\n",
              "  <div id=\"df-cbb87cf2-f3af-4deb-a414-2ca293a28835\">\n",
              "    <div class=\"colab-df-container\">\n",
              "      <div>\n",
              "<style scoped>\n",
              "    .dataframe tbody tr th:only-of-type {\n",
              "        vertical-align: middle;\n",
              "    }\n",
              "\n",
              "    .dataframe tbody tr th {\n",
              "        vertical-align: top;\n",
              "    }\n",
              "\n",
              "    .dataframe thead th {\n",
              "        text-align: right;\n",
              "    }\n",
              "</style>\n",
              "<table border=\"1\" class=\"dataframe\">\n",
              "  <thead>\n",
              "    <tr style=\"text-align: right;\">\n",
              "      <th></th>\n",
              "      <th>Close</th>\n",
              "      <th>Predictions</th>\n",
              "    </tr>\n",
              "    <tr>\n",
              "      <th>Date</th>\n",
              "      <th></th>\n",
              "      <th></th>\n",
              "    </tr>\n",
              "  </thead>\n",
              "  <tbody>\n",
              "    <tr>\n",
              "      <th>2018-06-18</th>\n",
              "      <td>9.220000</td>\n",
              "      <td>9.441658</td>\n",
              "    </tr>\n",
              "    <tr>\n",
              "      <th>2018-06-19</th>\n",
              "      <td>9.100000</td>\n",
              "      <td>9.339051</td>\n",
              "    </tr>\n",
              "    <tr>\n",
              "      <th>2018-06-20</th>\n",
              "      <td>9.080000</td>\n",
              "      <td>9.226528</td>\n",
              "    </tr>\n",
              "    <tr>\n",
              "      <th>2018-06-21</th>\n",
              "      <td>9.115000</td>\n",
              "      <td>9.192428</td>\n",
              "    </tr>\n",
              "    <tr>\n",
              "      <th>2018-06-22</th>\n",
              "      <td>9.360000</td>\n",
              "      <td>9.222630</td>\n",
              "    </tr>\n",
              "    <tr>\n",
              "      <th>...</th>\n",
              "      <td>...</td>\n",
              "      <td>...</td>\n",
              "    </tr>\n",
              "    <tr>\n",
              "      <th>2022-01-24</th>\n",
              "      <td>22.940001</td>\n",
              "      <td>20.181664</td>\n",
              "    </tr>\n",
              "    <tr>\n",
              "      <th>2022-01-25</th>\n",
              "      <td>22.480000</td>\n",
              "      <td>19.929651</td>\n",
              "    </tr>\n",
              "    <tr>\n",
              "      <th>2022-01-26</th>\n",
              "      <td>22.389999</td>\n",
              "      <td>19.666887</td>\n",
              "    </tr>\n",
              "    <tr>\n",
              "      <th>2022-01-27</th>\n",
              "      <td>21.809999</td>\n",
              "      <td>19.635632</td>\n",
              "    </tr>\n",
              "    <tr>\n",
              "      <th>2022-01-28</th>\n",
              "      <td>22.660000</td>\n",
              "      <td>19.328825</td>\n",
              "    </tr>\n",
              "  </tbody>\n",
              "</table>\n",
              "<p>912 rows × 2 columns</p>\n",
              "</div>\n",
              "      <button class=\"colab-df-convert\" onclick=\"convertToInteractive('df-cbb87cf2-f3af-4deb-a414-2ca293a28835')\"\n",
              "              title=\"Convert this dataframe to an interactive table.\"\n",
              "              style=\"display:none;\">\n",
              "        \n",
              "  <svg xmlns=\"http://www.w3.org/2000/svg\" height=\"24px\"viewBox=\"0 0 24 24\"\n",
              "       width=\"24px\">\n",
              "    <path d=\"M0 0h24v24H0V0z\" fill=\"none\"/>\n",
              "    <path d=\"M18.56 5.44l.94 2.06.94-2.06 2.06-.94-2.06-.94-.94-2.06-.94 2.06-2.06.94zm-11 1L8.5 8.5l.94-2.06 2.06-.94-2.06-.94L8.5 2.5l-.94 2.06-2.06.94zm10 10l.94 2.06.94-2.06 2.06-.94-2.06-.94-.94-2.06-.94 2.06-2.06.94z\"/><path d=\"M17.41 7.96l-1.37-1.37c-.4-.4-.92-.59-1.43-.59-.52 0-1.04.2-1.43.59L10.3 9.45l-7.72 7.72c-.78.78-.78 2.05 0 2.83L4 21.41c.39.39.9.59 1.41.59.51 0 1.02-.2 1.41-.59l7.78-7.78 2.81-2.81c.8-.78.8-2.07 0-2.86zM5.41 20L4 18.59l7.72-7.72 1.47 1.35L5.41 20z\"/>\n",
              "  </svg>\n",
              "      </button>\n",
              "      \n",
              "  <style>\n",
              "    .colab-df-container {\n",
              "      display:flex;\n",
              "      flex-wrap:wrap;\n",
              "      gap: 12px;\n",
              "    }\n",
              "\n",
              "    .colab-df-convert {\n",
              "      background-color: #E8F0FE;\n",
              "      border: none;\n",
              "      border-radius: 50%;\n",
              "      cursor: pointer;\n",
              "      display: none;\n",
              "      fill: #1967D2;\n",
              "      height: 32px;\n",
              "      padding: 0 0 0 0;\n",
              "      width: 32px;\n",
              "    }\n",
              "\n",
              "    .colab-df-convert:hover {\n",
              "      background-color: #E2EBFA;\n",
              "      box-shadow: 0px 1px 2px rgba(60, 64, 67, 0.3), 0px 1px 3px 1px rgba(60, 64, 67, 0.15);\n",
              "      fill: #174EA6;\n",
              "    }\n",
              "\n",
              "    [theme=dark] .colab-df-convert {\n",
              "      background-color: #3B4455;\n",
              "      fill: #D2E3FC;\n",
              "    }\n",
              "\n",
              "    [theme=dark] .colab-df-convert:hover {\n",
              "      background-color: #434B5C;\n",
              "      box-shadow: 0px 1px 3px 1px rgba(0, 0, 0, 0.15);\n",
              "      filter: drop-shadow(0px 1px 2px rgba(0, 0, 0, 0.3));\n",
              "      fill: #FFFFFF;\n",
              "    }\n",
              "  </style>\n",
              "\n",
              "      <script>\n",
              "        const buttonEl =\n",
              "          document.querySelector('#df-cbb87cf2-f3af-4deb-a414-2ca293a28835 button.colab-df-convert');\n",
              "        buttonEl.style.display =\n",
              "          google.colab.kernel.accessAllowed ? 'block' : 'none';\n",
              "\n",
              "        async function convertToInteractive(key) {\n",
              "          const element = document.querySelector('#df-cbb87cf2-f3af-4deb-a414-2ca293a28835');\n",
              "          const dataTable =\n",
              "            await google.colab.kernel.invokeFunction('convertToInteractive',\n",
              "                                                     [key], {});\n",
              "          if (!dataTable) return;\n",
              "\n",
              "          const docLinkHtml = 'Like what you see? Visit the ' +\n",
              "            '<a target=\"_blank\" href=https://colab.research.google.com/notebooks/data_table.ipynb>data table notebook</a>'\n",
              "            + ' to learn more about interactive tables.';\n",
              "          element.innerHTML = '';\n",
              "          dataTable['output_type'] = 'display_data';\n",
              "          await google.colab.output.renderOutput(dataTable, element);\n",
              "          const docLink = document.createElement('div');\n",
              "          docLink.innerHTML = docLinkHtml;\n",
              "          element.appendChild(docLink);\n",
              "        }\n",
              "      </script>\n",
              "    </div>\n",
              "  </div>\n",
              "  "
            ]
          },
          "metadata": {},
          "execution_count": 28
        }
      ]
    },
    {
      "cell_type": "code",
      "metadata": {
        "colab": {
          "base_uri": "https://localhost:8080/"
        },
        "id": "b_kzNCT5oaN2",
        "outputId": "e4580d1c-bf83-4e1e-b4f2-7cae7437f30c"
      },
      "source": [
        "#get the quote\n",
        "amzn_quote = pd.read_csv('/content/gdrive/MyDrive/Stock-Price-Prediction-main/Latest Dataset/INFY.csv')\n",
        "#Create new data frame\n",
        "new_df = amzn_quote.filter(['Close'])\n",
        "#get the last 60 days closing price values and convert the dataframe to an array\n",
        "last_60_days = new_df[-60:].values\n",
        "#scaled the data to be values between 0 and 1\n",
        "last_60_days_scaled = scaler.transform(last_60_days)\n",
        "#create an empty list\n",
        "X_test = []\n",
        "#append the past 60 days \n",
        "X_test.append(last_60_days_scaled)\n",
        "#convert the X_test data set to a numpy array\n",
        "X_test = np.array(X_test)\n",
        "#Reshape the data\n",
        "X_test = np.reshape(X_test,(X_test.shape[0], X_test.shape[1],1))\n",
        "#get the predicted scaled price\n",
        "pred_price= model.predict(X_test)\n",
        "#undo the scalling\n",
        "pred_price = scaler.inverse_transform(pred_price)\n",
        "pred_price"
      ],
      "execution_count": 29,
      "outputs": [
        {
          "output_type": "execute_result",
          "data": {
            "text/plain": [
              "array([[19.87129]], dtype=float32)"
            ]
          },
          "metadata": {},
          "execution_count": 29
        }
      ]
    },
    {
      "cell_type": "markdown",
      "metadata": {
        "id": "ZLtslyL_EpKD"
      },
      "source": [
        "# Accuracy Score - INFOSYS LSTM Prediction"
      ]
    },
    {
      "cell_type": "code",
      "metadata": {
        "colab": {
          "base_uri": "https://localhost:8080/"
        },
        "id": "y-zDKT8AEs5j",
        "outputId": "eb9dec12-70ac-49a4-a3db-18fb1b131e33"
      },
      "source": [
        "# Measure the Accuracy Score\n",
        "Acc = []\n",
        "from sklearn.metrics import r2_score\n",
        " \n",
        "print(\"Accuracy score of the predictions: {0}\".format(r2_score(y_test, predictions)))\n",
        "Acc.append(r2_score(y_test, predictions))"
      ],
      "execution_count": 30,
      "outputs": [
        {
          "output_type": "stream",
          "name": "stdout",
          "text": [
            "Accuracy score of the predictions: 0.9361136699047533\n"
          ]
        }
      ]
    },
    {
      "cell_type": "markdown",
      "metadata": {
        "id": "V1iHK8DDE2ep"
      },
      "source": [
        "\n",
        "\n",
        "---\n",
        "\n",
        "\n",
        "\n",
        "---\n",
        "\n"
      ]
    },
    {
      "cell_type": "markdown",
      "metadata": {
        "id": "yN6V1nvCsobm"
      },
      "source": [
        "# 1.2 LSTM Modeling For TCS Stock"
      ]
    },
    {
      "cell_type": "code",
      "metadata": {
        "id": "R2ATAgCBsmeo"
      },
      "source": [
        "data_G = pd.read_csv('/content/gdrive/MyDrive/Stock-Price-Prediction-main/Latest Dataset/TCS.NS.csv')"
      ],
      "execution_count": 31,
      "outputs": []
    },
    {
      "cell_type": "code",
      "metadata": {
        "colab": {
          "base_uri": "https://localhost:8080/"
        },
        "id": "iSSbvO14tZ2j",
        "outputId": "c996cdc9-9e3e-4dc7-8250-553d8314c056"
      },
      "source": [
        "data_G.info()"
      ],
      "execution_count": 32,
      "outputs": [
        {
          "output_type": "stream",
          "name": "stdout",
          "text": [
            "<class 'pandas.core.frame.DataFrame'>\n",
            "RangeIndex: 2987 entries, 0 to 2986\n",
            "Data columns (total 7 columns):\n",
            " #   Column     Non-Null Count  Dtype  \n",
            "---  ------     --------------  -----  \n",
            " 0   Date       2987 non-null   object \n",
            " 1   Open       2980 non-null   float64\n",
            " 2   High       2980 non-null   float64\n",
            " 3   Low        2980 non-null   float64\n",
            " 4   Close      2980 non-null   float64\n",
            " 5   Adj Close  2980 non-null   float64\n",
            " 6   Volume     2980 non-null   float64\n",
            "dtypes: float64(6), object(1)\n",
            "memory usage: 163.5+ KB\n"
          ]
        }
      ]
    },
    {
      "cell_type": "code",
      "metadata": {
        "colab": {
          "base_uri": "https://localhost:8080/"
        },
        "id": "1IgGixgmuKKx",
        "outputId": "cdfeacc0-d919-4560-c3df-beb7954398e3"
      },
      "source": [
        "#Change the date foramt and set it as index\n",
        "#dtype.data_G['Date']\n",
        "data_G['Date'] = pd.to_datetime(data_G['Date'])\n",
        "data_G.set_index('Date',inplace=True)\n",
        "data_G.info()"
      ],
      "execution_count": 33,
      "outputs": [
        {
          "output_type": "stream",
          "name": "stdout",
          "text": [
            "<class 'pandas.core.frame.DataFrame'>\n",
            "DatetimeIndex: 2987 entries, 2010-01-04 to 2022-01-28\n",
            "Data columns (total 6 columns):\n",
            " #   Column     Non-Null Count  Dtype  \n",
            "---  ------     --------------  -----  \n",
            " 0   Open       2980 non-null   float64\n",
            " 1   High       2980 non-null   float64\n",
            " 2   Low        2980 non-null   float64\n",
            " 3   Close      2980 non-null   float64\n",
            " 4   Adj Close  2980 non-null   float64\n",
            " 5   Volume     2980 non-null   float64\n",
            "dtypes: float64(6)\n",
            "memory usage: 163.4 KB\n"
          ]
        }
      ]
    },
    {
      "cell_type": "code",
      "metadata": {
        "colab": {
          "base_uri": "https://localhost:8080/"
        },
        "id": "B1LI2bRiuN6K",
        "outputId": "a2da8df5-4e62-44ff-c3f0-40c134aa1e0c"
      },
      "source": [
        "data_G.shape"
      ],
      "execution_count": 34,
      "outputs": [
        {
          "output_type": "execute_result",
          "data": {
            "text/plain": [
              "(2987, 6)"
            ]
          },
          "metadata": {},
          "execution_count": 34
        }
      ]
    },
    {
      "cell_type": "code",
      "metadata": {
        "colab": {
          "base_uri": "https://localhost:8080/",
          "height": 521
        },
        "id": "aUAgB--uuUDF",
        "outputId": "e657a3ad-e4cc-40fb-c573-72090f369db9"
      },
      "source": [
        "#plotting the data\n",
        "plt.figure(figsize=(16,8))\n",
        "plt.title('Close Price History')\n",
        "plt.plot(data_G['Close'], color='blue')\n",
        "plt.xlabel('Date', fontsize=18)\n",
        "plt.ylabel('Close Price USD', fontsize = 18)\n",
        "plt.show()"
      ],
      "execution_count": 35,
      "outputs": [
        {
          "output_type": "display_data",
          "data": {
            "text/plain": [
              "<Figure size 1152x576 with 1 Axes>"
            ],
            "image/png": "[encoded data removed]"
          },
          "metadata": {
            "needs_background": "light"
          }
        }
      ]
    },
    {
      "cell_type": "code",
      "metadata": {
        "colab": {
          "base_uri": "https://localhost:8080/"
        },
        "id": "-lJwUXRQugPg",
        "outputId": "bd0b731f-265b-463f-fe55-cda4664a44e5"
      },
      "source": [
        "# Create a new data frame with only 'Close column'\n",
        "data_G = data_G.filter(['Close'])\n",
        "dataset_G = data_G.values #convert the data frame to a numpy array\n",
        "training_data_len_G = math.ceil(len(dataset_G)*.7)  # number of rows to train the model on\n",
        "training_data_len_G"
      ],
      "execution_count": 36,
      "outputs": [
        {
          "output_type": "execute_result",
          "data": {
            "text/plain": [
              "2091"
            ]
          },
          "metadata": {},
          "execution_count": 36
        }
      ]
    },
    {
      "cell_type": "code",
      "metadata": {
        "colab": {
          "base_uri": "https://localhost:8080/"
        },
        "id": "2oW94wy_u0MF",
        "outputId": "a703202d-fb02-4cbb-ecc2-47f22e6b9768"
      },
      "source": [
        "#Scale the data\n",
        "scaler_G = MinMaxScaler(feature_range=(0,1))\n",
        "scaled_data_G = scaler_G.fit_transform(dataset_G)\n",
        "scaled_data_G"
      ],
      "execution_count": 37,
      "outputs": [
        {
          "output_type": "execute_result",
          "data": {
            "text/plain": [
              "array([[0.00709931],\n",
              "       [0.00712655],\n",
              "       [0.00481008],\n",
              "       ...,\n",
              "       [0.9320729 ],\n",
              "       [0.89919267],\n",
              "       [0.91031174]])"
            ]
          },
          "metadata": {},
          "execution_count": 37
        }
      ]
    },
    {
      "cell_type": "code",
      "metadata": {
        "colab": {
          "base_uri": "https://localhost:8080/"
        },
        "id": "L81azBWuvIX9",
        "outputId": "857983b2-2daa-42a1-bb8e-e0d9149e40a3"
      },
      "source": [
        "train_data_G = scaled_data_G[0:training_data_len_G, :]\n",
        "#Split the data into x_train, y_train datasets\n",
        "x_train_G = []\n",
        "y_train_G = []\n",
        "for i in range(60,len(train_data_G)):\n",
        "    x_train_G.append(train_data_G[i-60:i, 0])\n",
        "    y_train_G.append(train_data_G[i,0])\n",
        "    if i<=60:\n",
        "        print(x_train_G)\n",
        "        print(y_train_G)\n",
        "        print()"
      ],
      "execution_count": 38,
      "outputs": [
        {
          "output_type": "stream",
          "name": "stdout",
          "text": [
            "[array([7.09930674e-03, 7.12655279e-03, 4.81008195e-03, 2.02351032e-03,\n",
            "       3.40657477e-05, 1.99625609e-03, 6.88128104e-03, 1.21274062e-02,\n",
            "       1.09419165e-02, 1.25157606e-02, 1.39873993e-02, 1.10577450e-02,\n",
            "       1.08806047e-02, 9.68830356e-03, 7.94413074e-03, 7.71930171e-03,\n",
            "       5.96150586e-03, 5.75029985e-03, 4.99404189e-03, 6.34986029e-03,\n",
            "       5.29382211e-03, 7.27644699e-03, 5.33469937e-03, 3.26350027e-03,\n",
            "                  nan, 3.35207448e-03, 4.85096738e-03, 4.46261295e-03,\n",
            "       5.87975133e-03, 6.34986029e-03, 7.98501618e-03, 8.05314767e-03,\n",
            "       8.07358222e-03, 6.94941254e-03, 7.86237621e-03, 8.52324845e-03,\n",
            "       8.96610317e-03, 9.08874313e-03, 8.48237119e-03, 8.67314265e-03,\n",
            "       9.42940061e-03, 8.76852838e-03, 8.59137995e-03, 8.60501115e-03,\n",
            "       9.42258910e-03, 1.09691708e-02, 1.25430067e-02, 1.32720186e-02,\n",
            "       1.61403529e-02, 1.76392458e-02, 1.92335244e-02, 1.72100141e-02,\n",
            "       1.65355189e-02, 1.74484744e-02, 1.75915570e-02, 1.77482546e-02,\n",
            "       1.71010054e-02, 1.53159635e-02, 1.36876191e-02, 1.10509335e-02])]\n",
            "[0.014750468773849251]\n",
            "\n"
          ]
        }
      ]
    },
    {
      "cell_type": "code",
      "metadata": {
        "id": "DsgqfYsUwac7"
      },
      "source": [
        "#convert the x_train_G and y_train_G  to numppy array\n",
        "x_train_G,y_train_G = np.array(x_train_G), np.array(y_train_G)"
      ],
      "execution_count": 39,
      "outputs": []
    },
    {
      "cell_type": "code",
      "metadata": {
        "colab": {
          "base_uri": "https://localhost:8080/"
        },
        "id": "EwwWmSWVwify",
        "outputId": "c674047e-f928-4e72-9635-4cfeb23e6b41"
      },
      "source": [
        "#reshape the data\n",
        "x_train_G = np.reshape(x_train_G,(x_train_G.shape[0],x_train_G.shape[1],1))\n",
        "x_train_G.shape"
      ],
      "execution_count": 40,
      "outputs": [
        {
          "output_type": "execute_result",
          "data": {
            "text/plain": [
              "(2031, 60, 1)"
            ]
          },
          "metadata": {},
          "execution_count": 40
        }
      ]
    },
    {
      "cell_type": "code",
      "metadata": {
        "id": "aDhpuiUnwqAD"
      },
      "source": [
        "#BuilD the LSTM model\n",
        "model =Sequential()\n",
        "model.add(LSTM(64,return_sequences=True, input_shape=(x_train_G.shape[1],1)))\n",
        "model.add(LSTM(64, return_sequences= False))\n",
        "model.add(Dense(32))\n",
        "model.add(Dense(1))\n"
      ],
      "execution_count": 41,
      "outputs": []
    },
    {
      "cell_type": "code",
      "metadata": {
        "id": "7oQiHaYtvgzH"
      },
      "source": [
        "\n",
        "#Complie the model\n",
        "model.compile(optimizer='adam', loss='mean_squared_error')"
      ],
      "execution_count": 42,
      "outputs": []
    },
    {
      "cell_type": "code",
      "metadata": {
        "colab": {
          "base_uri": "https://localhost:8080/"
        },
        "id": "-XquPBBnwz_v",
        "outputId": "b61081c4-040d-4962-bb9e-95f5ee3b0bde"
      },
      "source": [
        "#Train the model\n",
        "model.fit(x_train_G,y_train_G, batch_size=1, epochs=10)\n"
      ],
      "execution_count": 43,
      "outputs": [
        {
          "output_type": "stream",
          "name": "stdout",
          "text": [
            "Epoch 1/10\n",
            "2031/2031 [==============================] - 52s 24ms/step - loss: nan\n",
            "Epoch 2/10\n",
            "2031/2031 [==============================] - 49s 24ms/step - loss: nan\n",
            "Epoch 3/10\n",
            "2031/2031 [==============================] - 49s 24ms/step - loss: nan\n",
            "Epoch 4/10\n",
            "2031/2031 [==============================] - 48s 24ms/step - loss: nan\n",
            "Epoch 5/10\n",
            "2031/2031 [==============================] - 49s 24ms/step - loss: nan\n",
            "Epoch 6/10\n",
            "2031/2031 [==============================] - 49s 24ms/step - loss: nan\n",
            "Epoch 7/10\n",
            "2031/2031 [==============================] - 49s 24ms/step - loss: nan\n",
            "Epoch 8/10\n",
            "2031/2031 [==============================] - 49s 24ms/step - loss: nan\n",
            "Epoch 9/10\n",
            "2031/2031 [==============================] - 48s 24ms/step - loss: nan\n",
            "Epoch 10/10\n",
            "2031/2031 [==============================] - 49s 24ms/step - loss: nan\n"
          ]
        },
        {
          "output_type": "execute_result",
          "data": {
            "text/plain": [
              "<keras.callbacks.History at 0x7f8d91bfb210>"
            ]
          },
          "metadata": {},
          "execution_count": 43
        }
      ]
    },
    {
      "cell_type": "code",
      "metadata": {
        "id": "V8DhA_8t2A88"
      },
      "source": [
        "#create the testing data sets\n",
        "test_data_G= scaled_data_G[training_data_len_G-70:, :]\n",
        "\n",
        "#create the data sets x_test_G and y_test_G\n",
        "x_test_G = []\n",
        "y_test_G = dataset_G[training_data_len_G:,:]\n",
        "for i in range(70,len(test_data_G)):\n",
        "    x_test_G.append(test_data_G[i-70:i,0])"
      ],
      "execution_count": 56,
      "outputs": []
    },
    {
      "cell_type": "code",
      "metadata": {
        "colab": {
          "base_uri": "https://localhost:8080/"
        },
        "id": "cm5zfl5Xy0ZG",
        "outputId": "d5cd05fd-ac3f-4868-de73-86e4870e705b"
      },
      "source": [
        "y_test_G.shape"
      ],
      "execution_count": 57,
      "outputs": [
        {
          "output_type": "execute_result",
          "data": {
            "text/plain": [
              "(896, 1)"
            ]
          },
          "metadata": {},
          "execution_count": 57
        }
      ]
    },
    {
      "cell_type": "code",
      "source": [
        ""
      ],
      "metadata": {
        "id": "4VsMDLUM4c2H"
      },
      "execution_count": null,
      "outputs": []
    },
    {
      "cell_type": "code",
      "metadata": {
        "colab": {
          "base_uri": "https://localhost:8080/"
        },
        "id": "GRVNO3nIy6xv",
        "outputId": "732f0481-9695-4d8c-d304-ac1c2d383d82"
      },
      "source": [
        "#convert the data to a numpy array\n",
        "x_test_G = np.array(x_test_G)\n",
        "#y_test_G = np.array(y_test_G)\n",
        "\n",
        "#reshape the data\n",
        "x_test_G = np.reshape(x_test_G, (x_test_G.shape[0], x_test_G.shape[1],1))\n",
        "x_test_G.shape"
      ],
      "execution_count": 58,
      "outputs": [
        {
          "output_type": "execute_result",
          "data": {
            "text/plain": [
              "(896, 70, 1)"
            ]
          },
          "metadata": {},
          "execution_count": 58
        }
      ]
    },
    {
      "cell_type": "code",
      "metadata": {
        "id": "Dr9ZPutJ0EAi"
      },
      "source": [
        "#predicting the data\n",
        "predictions_G = model.predict(x_test_G)\n",
        "predictions_G = scaler_G.inverse_transform(predictions_G)"
      ],
      "execution_count": 59,
      "outputs": []
    },
    {
      "cell_type": "code",
      "metadata": {
        "colab": {
          "base_uri": "https://localhost:8080/"
        },
        "id": "yc2Q4Dyy1TEa",
        "outputId": "97cae7ad-0716-45b9-b63c-2255a3b84244"
      },
      "source": [
        "predictions_G.shape"
      ],
      "execution_count": 48,
      "outputs": [
        {
          "output_type": "execute_result",
          "data": {
            "text/plain": [
              "(896, 1)"
            ]
          },
          "metadata": {},
          "execution_count": 48
        }
      ]
    },
    {
      "cell_type": "code",
      "metadata": {
        "colab": {
          "base_uri": "https://localhost:8080/"
        },
        "id": "dJl3UsoTyzhc",
        "outputId": "569175d5-647e-428d-b761-907d45adb6d6"
      },
      "source": [
        "#get the root mean square error(RMSE)\n",
        "rmse = np.sqrt(np.mean(predictions_G - y_test_G)**2)\n",
        "rmse"
      ],
      "execution_count": 60,
      "outputs": [
        {
          "output_type": "execute_result",
          "data": {
            "text/plain": [
              "nan"
            ]
          },
          "metadata": {},
          "execution_count": 60
        }
      ]
    },
    {
      "cell_type": "code",
      "metadata": {
        "colab": {
          "base_uri": "https://localhost:8080/"
        },
        "id": "-74a-jKe-HLI",
        "outputId": "c66e5974-7fcb-4b2a-b899-3904ffe38237"
      },
      "source": [
        "print(training_data_len_G)"
      ],
      "execution_count": 50,
      "outputs": [
        {
          "output_type": "stream",
          "name": "stdout",
          "text": [
            "2091\n"
          ]
        }
      ]
    },
    {
      "cell_type": "code",
      "metadata": {
        "colab": {
          "base_uri": "https://localhost:8080/",
          "height": 643
        },
        "id": "AunvR5VCy7Ue",
        "outputId": "ab90ec40-ac2c-422a-e9a0-f3afec465a52"
      },
      "source": [
        "#plot the data\n",
        "train = data_G[:training_data_len_G]\n",
        "valid = data_G[training_data_len_G:]\n",
        "valid['Predictions'] = predictions_G\n",
        "#Visialization the data\n",
        "plt.figure(figsize=(16,8))\n",
        "plt.title('Model')\n",
        "plt.xlabel('Date', fontsize=18)\n",
        "plt.ylabel('Close Price' ,fontsize=18)\n",
        "plt.plot(train['Close'],linewidth=3.5)\n",
        "plt.plot(valid[['Close','Predictions']],linewidth=3.5)\n",
        "plt.legend(['Train','Valid','Predictions'])"
      ],
      "execution_count": 51,
      "outputs": [
        {
          "output_type": "stream",
          "name": "stderr",
          "text": [
            "/usr/local/lib/python3.7/dist-packages/ipykernel_launcher.py:4: SettingWithCopyWarning: \n",
            "A value is trying to be set on a copy of a slice from a DataFrame.\n",
            "Try using .loc[row_indexer,col_indexer] = value instead\n",
            "\n",
            "See the caveats in the documentation: https://pandas.pydata.org/pandas-docs/stable/user_guide/indexing.html#returning-a-view-versus-a-copy\n",
            "  after removing the cwd from sys.path.\n"
          ]
        },
        {
          "output_type": "execute_result",
          "data": {
            "text/plain": [
              "<matplotlib.legend.Legend at 0x7f8d90acef90>"
            ]
          },
          "metadata": {},
          "execution_count": 51
        },
        {
          "output_type": "display_data",
          "data": {
            "text/plain": [
              "<Figure size 1152x576 with 1 Axes>"
            ],
            "image/png": "[encoded data removed]"
          },
          "metadata": {
            "needs_background": "light"
          }
        }
      ]
    },
    {
      "cell_type": "code",
      "metadata": {
        "colab": {
          "base_uri": "https://localhost:8080/",
          "height": 455
        },
        "id": "VmI1dvW5y-6c",
        "outputId": "a0a85a1c-67a3-4793-986c-682da51594dd"
      },
      "source": [
        "#show the valid and predicted price\n",
        "valid"
      ],
      "execution_count": 52,
      "outputs": [
        {
          "output_type": "execute_result",
          "data": {
            "text/plain": [
              "                  Close  Predictions\n",
              "Date                                \n",
              "2018-06-13  1824.099976          NaN\n",
              "2018-06-14  1787.550049          NaN\n",
              "2018-06-15  1840.050049          NaN\n",
              "2018-06-18  1829.000000          NaN\n",
              "2018-06-19  1824.500000          NaN\n",
              "...                 ...          ...\n",
              "2022-01-21  3833.500000          NaN\n",
              "2022-01-24  3771.350098          NaN\n",
              "2022-01-25  3769.899902          NaN\n",
              "2022-01-27  3649.250000          NaN\n",
              "2022-01-28  3690.050049          NaN\n",
              "\n",
              "[896 rows x 2 columns]"
            ],
            "text/html": [
              "\n",
              "  <div id=\"df-afca77e6-904f-4420-b042-c45b57c2a0df\">\n",
              "    <div class=\"colab-df-container\">\n",
              "      <div>\n",
              "<style scoped>\n",
              "    .dataframe tbody tr th:only-of-type {\n",
              "        vertical-align: middle;\n",
              "    }\n",
              "\n",
              "    .dataframe tbody tr th {\n",
              "        vertical-align: top;\n",
              "    }\n",
              "\n",
              "    .dataframe thead th {\n",
              "        text-align: right;\n",
              "    }\n",
              "</style>\n",
              "<table border=\"1\" class=\"dataframe\">\n",
              "  <thead>\n",
              "    <tr style=\"text-align: right;\">\n",
              "      <th></th>\n",
              "      <th>Close</th>\n",
              "      <th>Predictions</th>\n",
              "    </tr>\n",
              "    <tr>\n",
              "      <th>Date</th>\n",
              "      <th></th>\n",
              "      <th></th>\n",
              "    </tr>\n",
              "  </thead>\n",
              "  <tbody>\n",
              "    <tr>\n",
              "      <th>2018-06-13</th>\n",
              "      <td>1824.099976</td>\n",
              "      <td>NaN</td>\n",
              "    </tr>\n",
              "    <tr>\n",
              "      <th>2018-06-14</th>\n",
              "      <td>1787.550049</td>\n",
              "      <td>NaN</td>\n",
              "    </tr>\n",
              "    <tr>\n",
              "      <th>2018-06-15</th>\n",
              "      <td>1840.050049</td>\n",
              "      <td>NaN</td>\n",
              "    </tr>\n",
              "    <tr>\n",
              "      <th>2018-06-18</th>\n",
              "      <td>1829.000000</td>\n",
              "      <td>NaN</td>\n",
              "    </tr>\n",
              "    <tr>\n",
              "      <th>2018-06-19</th>\n",
              "      <td>1824.500000</td>\n",
              "      <td>NaN</td>\n",
              "    </tr>\n",
              "    <tr>\n",
              "      <th>...</th>\n",
              "      <td>...</td>\n",
              "      <td>...</td>\n",
              "    </tr>\n",
              "    <tr>\n",
              "      <th>2022-01-21</th>\n",
              "      <td>3833.500000</td>\n",
              "      <td>NaN</td>\n",
              "    </tr>\n",
              "    <tr>\n",
              "      <th>2022-01-24</th>\n",
              "      <td>3771.350098</td>\n",
              "      <td>NaN</td>\n",
              "    </tr>\n",
              "    <tr>\n",
              "      <th>2022-01-25</th>\n",
              "      <td>3769.899902</td>\n",
              "      <td>NaN</td>\n",
              "    </tr>\n",
              "    <tr>\n",
              "      <th>2022-01-27</th>\n",
              "      <td>3649.250000</td>\n",
              "      <td>NaN</td>\n",
              "    </tr>\n",
              "    <tr>\n",
              "      <th>2022-01-28</th>\n",
              "      <td>3690.050049</td>\n",
              "      <td>NaN</td>\n",
              "    </tr>\n",
              "  </tbody>\n",
              "</table>\n",
              "<p>896 rows × 2 columns</p>\n",
              "</div>\n",
              "      <button class=\"colab-df-convert\" onclick=\"convertToInteractive('df-afca77e6-904f-4420-b042-c45b57c2a0df')\"\n",
              "              title=\"Convert this dataframe to an interactive table.\"\n",
              "              style=\"display:none;\">\n",
              "        \n",
              "  <svg xmlns=\"http://www.w3.org/2000/svg\" height=\"24px\"viewBox=\"0 0 24 24\"\n",
              "       width=\"24px\">\n",
              "    <path d=\"M0 0h24v24H0V0z\" fill=\"none\"/>\n",
              "    <path d=\"M18.56 5.44l.94 2.06.94-2.06 2.06-.94-2.06-.94-.94-2.06-.94 2.06-2.06.94zm-11 1L8.5 8.5l.94-2.06 2.06-.94-2.06-.94L8.5 2.5l-.94 2.06-2.06.94zm10 10l.94 2.06.94-2.06 2.06-.94-2.06-.94-.94-2.06-.94 2.06-2.06.94z\"/><path d=\"M17.41 7.96l-1.37-1.37c-.4-.4-.92-.59-1.43-.59-.52 0-1.04.2-1.43.59L10.3 9.45l-7.72 7.72c-.78.78-.78 2.05 0 2.83L4 21.41c.39.39.9.59 1.41.59.51 0 1.02-.2 1.41-.59l7.78-7.78 2.81-2.81c.8-.78.8-2.07 0-2.86zM5.41 20L4 18.59l7.72-7.72 1.47 1.35L5.41 20z\"/>\n",
              "  </svg>\n",
              "      </button>\n",
              "      \n",
              "  <style>\n",
              "    .colab-df-container {\n",
              "      display:flex;\n",
              "      flex-wrap:wrap;\n",
              "      gap: 12px;\n",
              "    }\n",
              "\n",
              "    .colab-df-convert {\n",
              "      background-color: #E8F0FE;\n",
              "      border: none;\n",
              "      border-radius: 50%;\n",
              "      cursor: pointer;\n",
              "      display: none;\n",
              "      fill: #1967D2;\n",
              "      height: 32px;\n",
              "      padding: 0 0 0 0;\n",
              "      width: 32px;\n",
              "    }\n",
              "\n",
              "    .colab-df-convert:hover {\n",
              "      background-color: #E2EBFA;\n",
              "      box-shadow: 0px 1px 2px rgba(60, 64, 67, 0.3), 0px 1px 3px 1px rgba(60, 64, 67, 0.15);\n",
              "      fill: #174EA6;\n",
              "    }\n",
              "\n",
              "    [theme=dark] .colab-df-convert {\n",
              "      background-color: #3B4455;\n",
              "      fill: #D2E3FC;\n",
              "    }\n",
              "\n",
              "    [theme=dark] .colab-df-convert:hover {\n",
              "      background-color: #434B5C;\n",
              "      box-shadow: 0px 1px 3px 1px rgba(0, 0, 0, 0.15);\n",
              "      filter: drop-shadow(0px 1px 2px rgba(0, 0, 0, 0.3));\n",
              "      fill: #FFFFFF;\n",
              "    }\n",
              "  </style>\n",
              "\n",
              "      <script>\n",
              "        const buttonEl =\n",
              "          document.querySelector('#df-afca77e6-904f-4420-b042-c45b57c2a0df button.colab-df-convert');\n",
              "        buttonEl.style.display =\n",
              "          google.colab.kernel.accessAllowed ? 'block' : 'none';\n",
              "\n",
              "        async function convertToInteractive(key) {\n",
              "          const element = document.querySelector('#df-afca77e6-904f-4420-b042-c45b57c2a0df');\n",
              "          const dataTable =\n",
              "            await google.colab.kernel.invokeFunction('convertToInteractive',\n",
              "                                                     [key], {});\n",
              "          if (!dataTable) return;\n",
              "\n",
              "          const docLinkHtml = 'Like what you see? Visit the ' +\n",
              "            '<a target=\"_blank\" href=https://colab.research.google.com/notebooks/data_table.ipynb>data table notebook</a>'\n",
              "            + ' to learn more about interactive tables.';\n",
              "          element.innerHTML = '';\n",
              "          dataTable['output_type'] = 'display_data';\n",
              "          await google.colab.output.renderOutput(dataTable, element);\n",
              "          const docLink = document.createElement('div');\n",
              "          docLink.innerHTML = docLinkHtml;\n",
              "          element.appendChild(docLink);\n",
              "        }\n",
              "      </script>\n",
              "    </div>\n",
              "  </div>\n",
              "  "
            ]
          },
          "metadata": {},
          "execution_count": 52
        }
      ]
    },
    {
      "cell_type": "code",
      "metadata": {
        "colab": {
          "base_uri": "https://localhost:8080/"
        },
        "id": "5Fr2RRejzBCW",
        "outputId": "50f492fc-f4d2-40a0-b3bb-49d3707e62c5"
      },
      "source": [
        "#get the quote\n",
        "goog_quote = pd.read_csv('/content/gdrive/MyDrive/Stock-Price-Prediction-main/Latest Dataset/TCS.NS.csv')\n",
        "#Create new data frame\n",
        "new_df = goog_quote.filter(['Close'])\n",
        "#get the last 60 days closing price values and convert the dataframe to an array\n",
        "last_60_days = new_df[-60:].values\n",
        "#scaled the data to be values between 0 and 1\n",
        "last_60_days_scaled = scaler.transform(last_60_days)\n",
        "#create an empty list\n",
        "X_test_G = []\n",
        "#append the past 60 days \n",
        "X_test_G.append(last_60_days_scaled)\n",
        "#convert the X_test data set to a numpy array\n",
        "X_test_G = np.array(X_test_G)\n",
        "#Reshape the data\n",
        "X_test_G = np.reshape(X_test_G,(X_test_G.shape[0], X_test_G.shape[1],1))\n",
        "#get the predicted scaled price\n",
        "pred_price_G= model.predict(X_test_G)\n",
        "#undo the scalling\n",
        "pred_price_G = scaler_G.inverse_transform(pred_price_G)\n",
        "pred_price_G\n"
      ],
      "execution_count": 53,
      "outputs": [
        {
          "output_type": "execute_result",
          "data": {
            "text/plain": [
              "array([[nan]], dtype=float32)"
            ]
          },
          "metadata": {},
          "execution_count": 53
        }
      ]
    },
    {
      "cell_type": "markdown",
      "metadata": {
        "id": "qkVxOtNOEaf5"
      },
      "source": [
        "#  Accuracy Score - TCS LSTM Prediction "
      ]
    },
    {
      "cell_type": "code",
      "metadata": {
        "colab": {
          "base_uri": "https://localhost:8080/",
          "height": 364
        },
        "id": "seKPAWQ_EZeo",
        "outputId": "db638f7e-72d6-4772-fa47-522d5cfdcf2a"
      },
      "source": [
        "# Measure the Accuracy Score\n",
        "Acc_G = []\n",
        "from sklearn.metrics import r2_score\n",
        " \n",
        "print(\"Accuracy score of the predictions: {0}\".format(r2_score(y_test_G, predictions_G)))\n",
        "Acc_G.append(r2_score(y_test_G, predictions_G))"
      ],
      "execution_count": 54,
      "outputs": [
        {
          "output_type": "error",
          "ename": "ValueError",
          "evalue": "ignored",
          "traceback": [
            "\u001b[0;31m---------------------------------------------------------------------------\u001b[0m",
            "\u001b[0;31mValueError\u001b[0m                                Traceback (most recent call last)",
            "\u001b[0;32m<ipython-input-54-f93c52cc5527>\u001b[0m in \u001b[0;36m<module>\u001b[0;34m()\u001b[0m\n\u001b[1;32m      3\u001b[0m \u001b[0;32mfrom\u001b[0m \u001b[0msklearn\u001b[0m\u001b[0;34m.\u001b[0m\u001b[0mmetrics\u001b[0m \u001b[0;32mimport\u001b[0m \u001b[0mr2_score\u001b[0m\u001b[0;34m\u001b[0m\u001b[0;34m\u001b[0m\u001b[0m\n\u001b[1;32m      4\u001b[0m \u001b[0;34m\u001b[0m\u001b[0m\n\u001b[0;32m----> 5\u001b[0;31m \u001b[0mprint\u001b[0m\u001b[0;34m(\u001b[0m\u001b[0;34m\"Accuracy score of the predictions: {0}\"\u001b[0m\u001b[0;34m.\u001b[0m\u001b[0mformat\u001b[0m\u001b[0;34m(\u001b[0m\u001b[0mr2_score\u001b[0m\u001b[0;34m(\u001b[0m\u001b[0my_test_G\u001b[0m\u001b[0;34m,\u001b[0m \u001b[0mpredictions_G\u001b[0m\u001b[0;34m)\u001b[0m\u001b[0;34m)\u001b[0m\u001b[0;34m)\u001b[0m\u001b[0;34m\u001b[0m\u001b[0;34m\u001b[0m\u001b[0m\n\u001b[0m\u001b[1;32m      6\u001b[0m \u001b[0mAcc_G\u001b[0m\u001b[0;34m.\u001b[0m\u001b[0mappend\u001b[0m\u001b[0;34m(\u001b[0m\u001b[0mr2_score\u001b[0m\u001b[0;34m(\u001b[0m\u001b[0my_test_G\u001b[0m\u001b[0;34m,\u001b[0m \u001b[0mpredictions_G\u001b[0m\u001b[0;34m)\u001b[0m\u001b[0;34m)\u001b[0m\u001b[0;34m\u001b[0m\u001b[0;34m\u001b[0m\u001b[0m\n",
            "\u001b[0;32m/usr/local/lib/python3.7/dist-packages/sklearn/metrics/_regression.py\u001b[0m in \u001b[0;36mr2_score\u001b[0;34m(y_true, y_pred, sample_weight, multioutput)\u001b[0m\n\u001b[1;32m    788\u001b[0m     \"\"\"\n\u001b[1;32m    789\u001b[0m     y_type, y_true, y_pred, multioutput = _check_reg_targets(\n\u001b[0;32m--> 790\u001b[0;31m         \u001b[0my_true\u001b[0m\u001b[0;34m,\u001b[0m \u001b[0my_pred\u001b[0m\u001b[0;34m,\u001b[0m \u001b[0mmultioutput\u001b[0m\u001b[0;34m\u001b[0m\u001b[0;34m\u001b[0m\u001b[0m\n\u001b[0m\u001b[1;32m    791\u001b[0m     )\n\u001b[1;32m    792\u001b[0m     \u001b[0mcheck_consistent_length\u001b[0m\u001b[0;34m(\u001b[0m\u001b[0my_true\u001b[0m\u001b[0;34m,\u001b[0m \u001b[0my_pred\u001b[0m\u001b[0;34m,\u001b[0m \u001b[0msample_weight\u001b[0m\u001b[0;34m)\u001b[0m\u001b[0;34m\u001b[0m\u001b[0;34m\u001b[0m\u001b[0m\n",
            "\u001b[0;32m/usr/local/lib/python3.7/dist-packages/sklearn/metrics/_regression.py\u001b[0m in \u001b[0;36m_check_reg_targets\u001b[0;34m(y_true, y_pred, multioutput, dtype)\u001b[0m\n\u001b[1;32m     94\u001b[0m     \u001b[0mcheck_consistent_length\u001b[0m\u001b[0;34m(\u001b[0m\u001b[0my_true\u001b[0m\u001b[0;34m,\u001b[0m \u001b[0my_pred\u001b[0m\u001b[0;34m)\u001b[0m\u001b[0;34m\u001b[0m\u001b[0;34m\u001b[0m\u001b[0m\n\u001b[1;32m     95\u001b[0m     \u001b[0my_true\u001b[0m \u001b[0;34m=\u001b[0m \u001b[0mcheck_array\u001b[0m\u001b[0;34m(\u001b[0m\u001b[0my_true\u001b[0m\u001b[0;34m,\u001b[0m \u001b[0mensure_2d\u001b[0m\u001b[0;34m=\u001b[0m\u001b[0;32mFalse\u001b[0m\u001b[0;34m,\u001b[0m \u001b[0mdtype\u001b[0m\u001b[0;34m=\u001b[0m\u001b[0mdtype\u001b[0m\u001b[0;34m)\u001b[0m\u001b[0;34m\u001b[0m\u001b[0;34m\u001b[0m\u001b[0m\n\u001b[0;32m---> 96\u001b[0;31m     \u001b[0my_pred\u001b[0m \u001b[0;34m=\u001b[0m \u001b[0mcheck_array\u001b[0m\u001b[0;34m(\u001b[0m\u001b[0my_pred\u001b[0m\u001b[0;34m,\u001b[0m \u001b[0mensure_2d\u001b[0m\u001b[0;34m=\u001b[0m\u001b[0;32mFalse\u001b[0m\u001b[0;34m,\u001b[0m \u001b[0mdtype\u001b[0m\u001b[0;34m=\u001b[0m\u001b[0mdtype\u001b[0m\u001b[0;34m)\u001b[0m\u001b[0;34m\u001b[0m\u001b[0;34m\u001b[0m\u001b[0m\n\u001b[0m\u001b[1;32m     97\u001b[0m \u001b[0;34m\u001b[0m\u001b[0m\n\u001b[1;32m     98\u001b[0m     \u001b[0;32mif\u001b[0m \u001b[0my_true\u001b[0m\u001b[0;34m.\u001b[0m\u001b[0mndim\u001b[0m \u001b[0;34m==\u001b[0m \u001b[0;36m1\u001b[0m\u001b[0;34m:\u001b[0m\u001b[0;34m\u001b[0m\u001b[0;34m\u001b[0m\u001b[0m\n",
            "\u001b[0;32m/usr/local/lib/python3.7/dist-packages/sklearn/utils/validation.py\u001b[0m in \u001b[0;36mcheck_array\u001b[0;34m(array, accept_sparse, accept_large_sparse, dtype, order, copy, force_all_finite, ensure_2d, allow_nd, ensure_min_samples, ensure_min_features, estimator)\u001b[0m\n\u001b[1;32m    798\u001b[0m \u001b[0;34m\u001b[0m\u001b[0m\n\u001b[1;32m    799\u001b[0m         \u001b[0;32mif\u001b[0m \u001b[0mforce_all_finite\u001b[0m\u001b[0;34m:\u001b[0m\u001b[0;34m\u001b[0m\u001b[0;34m\u001b[0m\u001b[0m\n\u001b[0;32m--> 800\u001b[0;31m             \u001b[0m_assert_all_finite\u001b[0m\u001b[0;34m(\u001b[0m\u001b[0marray\u001b[0m\u001b[0;34m,\u001b[0m \u001b[0mallow_nan\u001b[0m\u001b[0;34m=\u001b[0m\u001b[0mforce_all_finite\u001b[0m \u001b[0;34m==\u001b[0m \u001b[0;34m\"allow-nan\"\u001b[0m\u001b[0;34m)\u001b[0m\u001b[0;34m\u001b[0m\u001b[0;34m\u001b[0m\u001b[0m\n\u001b[0m\u001b[1;32m    801\u001b[0m \u001b[0;34m\u001b[0m\u001b[0m\n\u001b[1;32m    802\u001b[0m     \u001b[0;32mif\u001b[0m \u001b[0mensure_min_samples\u001b[0m \u001b[0;34m>\u001b[0m \u001b[0;36m0\u001b[0m\u001b[0;34m:\u001b[0m\u001b[0;34m\u001b[0m\u001b[0;34m\u001b[0m\u001b[0m\n",
            "\u001b[0;32m/usr/local/lib/python3.7/dist-packages/sklearn/utils/validation.py\u001b[0m in \u001b[0;36m_assert_all_finite\u001b[0;34m(X, allow_nan, msg_dtype)\u001b[0m\n\u001b[1;32m    114\u001b[0m             raise ValueError(\n\u001b[1;32m    115\u001b[0m                 msg_err.format(\n\u001b[0;32m--> 116\u001b[0;31m                     \u001b[0mtype_err\u001b[0m\u001b[0;34m,\u001b[0m \u001b[0mmsg_dtype\u001b[0m \u001b[0;32mif\u001b[0m \u001b[0mmsg_dtype\u001b[0m \u001b[0;32mis\u001b[0m \u001b[0;32mnot\u001b[0m \u001b[0;32mNone\u001b[0m \u001b[0;32melse\u001b[0m \u001b[0mX\u001b[0m\u001b[0;34m.\u001b[0m\u001b[0mdtype\u001b[0m\u001b[0;34m\u001b[0m\u001b[0;34m\u001b[0m\u001b[0m\n\u001b[0m\u001b[1;32m    117\u001b[0m                 )\n\u001b[1;32m    118\u001b[0m             )\n",
            "\u001b[0;31mValueError\u001b[0m: Input contains NaN, infinity or a value too large for dtype('float32')."
          ]
        }
      ]
    },
    {
      "cell_type": "markdown",
      "metadata": {
        "id": "cyTWIimHpWIK"
      },
      "source": [
        "# 2. Stock Price Predicting with - The AutoRegressive Integrated Moving Average (ARIMA) model"
      ]
    },
    {
      "cell_type": "markdown",
      "metadata": {
        "id": "vPqCesf006cw"
      },
      "source": [
        "Time-series & forecasting models Time-series forecasting models are the models that are capable to predict future values based on previously observed values. Time-series forecasting is widely used for non-stationary data. Non-stationary data are called the data whose statistical properties e.g. the mean and standard deviation are not constant over time but instead, these metrics vary over time. These non-stationary input data (used as input to these models) are usually called time-series. Some examples of time-series include the temperature values over time, stock price over time, price of a house over time etc. So, the input is a signal (time-series) that is defined by observations taken sequentially in time.A time series is a sequence of observations taken sequentially in time.\n",
        "\n",
        "\n",
        "\n",
        "*   AR: < Auto Regressive > means that the model uses the dependent relationship \n",
        "between an observation and some predefined number of lagged observations (also known as “time lag” or “lag”).\n",
        "\n",
        "\n",
        "*   I:< Integrated > means that the model employs differencing of raw observations (e.g. it subtracts an observation from an observation at the previous time step) in order to make the time-series stationary\n",
        "\n",
        "\n",
        "*   MA: < Moving Average > means that the model exploits the relationship between the residual error and the observations.\n",
        "Model parameters\n",
        "\n",
        "The standard ARIMA models expect as input parameters 3 arguments i.e. p,d,q. p is the number of lag observations. d is the degree of differencing. q is the size/width of the moving average window."
      ]
    },
    {
      "cell_type": "markdown",
      "metadata": {
        "id": "pVj9sDXg8cmk"
      },
      "source": [
        "# 2.1 INFOSYS Stock Price Prediction "
      ]
    },
    {
      "cell_type": "code",
      "metadata": {
        "id": "Pckn-gIHpevF"
      },
      "source": [
        "from pandas.plotting import lag_plot\n",
        "from pandas import datetime\n",
        "from statsmodels.tsa.arima_model import ARIMA\n",
        "from sklearn.metrics import mean_squared_error"
      ],
      "execution_count": null,
      "outputs": []
    },
    {
      "cell_type": "code",
      "metadata": {
        "id": "1nwONzFBwUB_"
      },
      "source": [
        "Adata = pd.read_csv('/content/gdrive/MyDrive/Stock-Price-Prediction-main/Latest Dataset/INFY.csv')\n",
        "Adata['Date'] = pd.to_datetime(Adata['Date'])\n",
        "Adata.set_index('Date',inplace=True)"
      ],
      "execution_count": null,
      "outputs": []
    },
    {
      "cell_type": "code",
      "metadata": {
        "id": "8eK_v2tiwiRE"
      },
      "source": [
        "Adata.info()"
      ],
      "execution_count": null,
      "outputs": []
    },
    {
      "cell_type": "code",
      "metadata": {
        "id": "ahIf7_ycp8dP"
      },
      "source": [
        "#Our target variable will be the Close value.\n",
        "#Before building the ARIMA model, let’s see if there is some cross-correlation in our data.\n",
        "plt.figure(figsize=(16,8))\n",
        "lag_plot(Adata['Open'], lag=3)\n",
        "plt.title('INFOSYS Stock - Autocorrelation plot with lag = 3')\n",
        "plt.show()\n"
      ],
      "execution_count": null,
      "outputs": []
    },
    {
      "cell_type": "markdown",
      "metadata": {
        "id": "feB8Wrx31OMA"
      },
      "source": [
        "We can now confirm that ARIMA is going to be a good model to be applied to this type of data (there is auto-correlation in the data).\n",
        "\n",
        "Finally, let’s plot the stock price evolution over time."
      ]
    },
    {
      "cell_type": "code",
      "metadata": {
        "id": "stk4hvp7qDfI"
      },
      "source": [
        "plt.figure(figsize=(16,8))\n",
        "plt.plot(Adata.index, Adata['Close'], color='royalblue')\n",
        "plt.title('Daily close price')\n",
        "plt.xlabel('Day')\n",
        "plt.ylabel('Dollar')\n",
        "plt.show()"
      ],
      "execution_count": null,
      "outputs": []
    },
    {
      "cell_type": "markdown",
      "metadata": {
        "id": "Uz_2ZWWE1XYD"
      },
      "source": [
        "Build the predictive ARIMA model\n",
        "\n",
        "Next, let’s divide the data into a training (70 % ) and test (30%) set. For this tutorial we select the following ARIMA parameters: p=4, d=1 and q=0."
      ]
    },
    {
      "cell_type": "code",
      "metadata": {
        "id": "Byi9HRhbqLih"
      },
      "source": [
        "train_data, test_data = Adata[0:int(len(Adata)*0.7)], Adata[int(len(Adata)*0.7):]\n",
        "training_data = train_data['Close'].values\n",
        "test_data = test_data['Close'].values\n",
        "history = [x for x in training_data]\n",
        "model_predictions = []\n",
        "N_test_observations = len(test_data)\n",
        "for time_point in range(N_test_observations):\n",
        "    model = ARIMA(history, order=(4,1,0))\n",
        "    model_fit = model.fit(disp=0)\n",
        "    output = model_fit.forecast()\n",
        "    yhat = output[0]\n",
        "    model_predictions.append(yhat)\n",
        "    true_test_value = test_data[time_point]\n",
        "    history.append(true_test_value)\n",
        "MSE_error = mean_squared_error(test_data, model_predictions)\n",
        "print('Testing Mean Squared Error is {}'.format(MSE_error))"
      ],
      "execution_count": null,
      "outputs": []
    },
    {
      "cell_type": "markdown",
      "metadata": {
        "id": "uNMHRwZy1fpA"
      },
      "source": [
        "Summary of the code We split the training dataset into train and test sets and we use the train set to fit the model, and generate a prediction for each element on the test set. A rolling forecasting procedure is required given the dependence on observations in prior time steps for differencing and the AR model. To this end, we re-create the ARIMA model after each new observation is received. Finally, we manually keep track of all observations in a list called history that is seeded with the training data and to which new observations are appended at each iteration. Testing Mean Squared Error is **1977.6938758025142**"
      ]
    },
    {
      "cell_type": "markdown",
      "metadata": {
        "id": "1hEXEtJU1n6B"
      },
      "source": [
        "The MSE of the test set is quite large denoting that the precise prediction is a hard problem. However, this is the average squared value across all the test set predictions. Let’s visualize the predictions to understand the performance of the model more."
      ]
    },
    {
      "cell_type": "code",
      "metadata": {
        "id": "sql8yGKKqdkL"
      },
      "source": [
        "test_set_range = Adata[int(len(Adata)*0.7):].index\n",
        "plt.figure(figsize=(16,8))\n",
        "plt.plot(test_set_range, model_predictions, color='blue', marker='o', linestyle='dashed',label='Predicted Price')\n",
        "plt.plot(test_set_range, test_data, color='red', label='Actual Price')\n",
        "plt.title('Amazon Prices Prediction')\n",
        "plt.xlabel('Date')\n",
        "plt.ylabel('Price')\n",
        "plt.legend()\n",
        "plt.show()"
      ],
      "execution_count": null,
      "outputs": []
    },
    {
      "cell_type": "code",
      "metadata": {
        "id": "RUTj19MK-R79"
      },
      "source": [
        "#Get records from dataframe to plot VALID tabular comparison of Close Prediction\n",
        "Adata = Adata.filter(['Close'])\n",
        "Adataset = Adata.values #convert the data frame to a numpy array\n",
        "Atraining_data_len = math.ceil(len(Adataset)*.7)  # number of rows to train the model on\n",
        "Atraining_data_len"
      ],
      "execution_count": null,
      "outputs": []
    },
    {
      "cell_type": "code",
      "metadata": {
        "id": "N-xoUYqk-mZ_"
      },
      "source": [
        "#Plot the Close & Prediction values\n",
        "train = Adata[:Atraining_data_len]\n",
        "valid = Adata[Atraining_data_len - 1:]\n",
        "model_predictions = np.array(model_predictions)\n",
        "valid['Predictions'] = model_predictions\n",
        "#Visialization the datamodel_predictions.shape\n",
        "valid"
      ],
      "execution_count": null,
      "outputs": []
    },
    {
      "cell_type": "markdown",
      "metadata": {
        "id": "DtjsP5NjEJn0"
      },
      "source": [
        "# Accuracy score  - INFOSYS ARIMA prediction"
      ]
    },
    {
      "cell_type": "code",
      "metadata": {
        "id": "cQzqH5Lap_KP"
      },
      "source": [
        "\n",
        "from sklearn.metrics import r2_score\n",
        " \n",
        "print(\"Accuracy score of the predictions: {0}\".format(r2_score(test_data, model_predictions)))\n",
        "Acc.append(r2_score(test_data, model_predictions))"
      ],
      "execution_count": null,
      "outputs": []
    },
    {
      "cell_type": "markdown",
      "metadata": {
        "id": "6rFmH2C69bwo"
      },
      "source": [
        "# 2.2 TCS Stock Price Prediction Using ARIMA"
      ]
    },
    {
      "cell_type": "code",
      "metadata": {
        "id": "w6d6iM_Y9acT"
      },
      "source": [
        "Adata_G = pd.read_csv('/content/gdrive/MyDrive/Stock-Price-Prediction-main/Latest Dataset/TCS.NS.csv')\n",
        "Adata_G['Date'] = pd.to_datetime(Adata_G['Date'])\n",
        "Adata_G.set_index('Date',inplace=True)\n"
      ],
      "execution_count": null,
      "outputs": []
    },
    {
      "cell_type": "code",
      "metadata": {
        "id": "QG2vcqtN-t3t"
      },
      "source": [
        "Adata_G.info()"
      ],
      "execution_count": null,
      "outputs": []
    },
    {
      "cell_type": "code",
      "metadata": {
        "id": "I5qSkyJ4-wWR"
      },
      "source": [
        "#Our target variable will be the Close value.\n",
        "#Before building the ARIMA model, let’s see if there is some cross-correlation in our data.\n",
        "plt.figure(figsize=(16,8))\n",
        "lag_plot(Adata_G['Open'], lag=3)\n",
        "plt.title('TCS Stock - Autocorrelation plot with lag = 3')\n",
        "plt.show()\n"
      ],
      "execution_count": null,
      "outputs": []
    },
    {
      "cell_type": "code",
      "metadata": {
        "id": "pvvqsF6M-24Z"
      },
      "source": [
        "plt.figure(figsize=(16,8))\n",
        "plt.plot(Adata_G.index, Adata_G['Close'], color='royalblue')\n",
        "plt.title('Daily close price')\n",
        "plt.xlabel('Day')\n",
        "plt.ylabel('Dollar')\n",
        "plt.show()"
      ],
      "execution_count": null,
      "outputs": []
    },
    {
      "cell_type": "code",
      "metadata": {
        "id": "6YiKb4M1-7G8"
      },
      "source": [
        "train_data_G, test_data_G = Adata_G[0:int(len(Adata_G)*0.7)], Adata_G[int(len(Adata_G)*0.7):]\n",
        "training_data_G = train_data_G['Close'].values\n",
        "test_data_G = test_data_G['Close'].values\n",
        "history_G = [x for x in training_data_G]\n",
        "model_predictions_G = []\n",
        "N_test_observations_G = len(test_data_G)\n",
        "for time_point in range(N_test_observations_G):\n",
        "    model = ARIMA(history_G, order=(4,1,0))\n",
        "    model_fit_G = model.fit(disp=0)\n",
        "    output = model_fit_G.forecast()\n",
        "    yhat = output[0]\n",
        "    model_predictions_G.append(yhat)\n",
        "    true_test_value_G= test_data_G[time_point]\n",
        "    history_G.append(true_test_value_G)\n",
        "MSE_error= mean_squared_error(test_data_G, model_predictions_G)\n",
        "print('Testing Mean Squared Error is {}'.format(MSE_error))\n"
      ],
      "execution_count": null,
      "outputs": []
    },
    {
      "cell_type": "code",
      "metadata": {
        "id": "aDfHbDrf_Ugj"
      },
      "source": [
        "test_set_range_G = Adata_G[int(len(Adata_G)*0.7):].index\n",
        "plt.figure(figsize=(16,8))\n",
        "plt.plot(test_set_range_G, model_predictions_G, color='blue', marker='o', linestyle='dashed',label='Predicted Price')\n",
        "plt.plot(test_set_range_G, test_data_G, color='red', label='Actual Price')\n",
        "plt.title('TCS Prices Prediction')\n",
        "plt.xlabel('Date')\n",
        "plt.ylabel('Price')\n",
        "plt.legend()\n",
        "plt.show()"
      ],
      "execution_count": null,
      "outputs": []
    },
    {
      "cell_type": "code",
      "metadata": {
        "id": "X8UUmZkk19aJ"
      },
      "source": [
        "#Get records from dataframe to plot VALID tabular comparison of Close Prediction\n",
        "Adata_G = Adata_G.filter(['Close'])\n",
        "Adataset_G = Adata_G.values #convert the data frame to a numpy array\n",
        "Atraining_data_len_G = math.ceil(len(Adataset_G)*.7)  # number of rows to train the model on\n",
        "Atraining_data_len_G"
      ],
      "execution_count": null,
      "outputs": []
    },
    {
      "cell_type": "code",
      "metadata": {
        "id": "bgEbr2JUB7YS"
      },
      "source": [
        "#Plot the Close & Prediction values\n",
        "train = Adata_G[:Atraining_data_len_G]\n",
        "valid = Adata_G[Atraining_data_len_G - 1:]\n",
        "model_predictions_G = np.array(model_predictions_G)\n",
        "valid['Predictions'] = model_predictions_G\n",
        "#Visialization the datamodel_predictions.shape\n",
        "valid"
      ],
      "execution_count": null,
      "outputs": []
    },
    {
      "cell_type": "markdown",
      "metadata": {
        "id": "w7zjZUH8FfMh"
      },
      "source": [
        "# Accuracy score - TCS ARIMA Prediction "
      ]
    },
    {
      "cell_type": "code",
      "metadata": {
        "id": "pkogJAHo_ZFU"
      },
      "source": [
        "# FInd the Accuracy score of the Googl ARIMA predictions\n",
        "from sklearn.metrics import r2_score\n",
        " \n",
        "print(\"Accuracy score of the predictions: {0}\".format(r2_score(test_data_G, model_predictions_G)))\n",
        "Acc_G.append(r2_score(test_data_G, model_predictions_G))"
      ],
      "execution_count": null,
      "outputs": []
    },
    {
      "cell_type": "markdown",
      "metadata": {
        "id": "UivXhPyR_ia3"
      },
      "source": [
        "# INFOSYS Stock - Accuracies in LSTM & ARIMA  Model"
      ]
    },
    {
      "cell_type": "code",
      "metadata": {
        "id": "m0P-_upJqoU6"
      },
      "source": [
        "plt.figure(figsize=(12,6))\n",
        "plt.plot(range(2), Acc, color='green', linestyle='dashed', linewidth = 3, \n",
        "          marker='o', markerfacecolor='blue', markersize=12) \n",
        "plt.ylabel('Acc')\n",
        "plt.xlabel('Models')\n",
        "plt.title(\"AMAZON - Accuracies\")\n",
        "plt.xticks(range(2), ['LSTM','ARIMA'])\n",
        "plt.show()"
      ],
      "execution_count": null,
      "outputs": []
    },
    {
      "cell_type": "markdown",
      "metadata": {
        "id": "hjUbOQfiAjwm"
      },
      "source": [
        "# TCS Stock - Accuracies in LSTM & ARIMA Model"
      ]
    },
    {
      "cell_type": "code",
      "metadata": {
        "id": "g-Mp9ZkDAiZx"
      },
      "source": [
        "plt.figure(figsize=(12,6))\n",
        "plt.plot(range(2), Acc_G, color='green', linestyle='dashed', linewidth = 3, \n",
        "         marker='o', markerfacecolor='blue', markersize=12) \n",
        "plt.ylabel('Acc')\n",
        "plt.xlabel('Models')\n",
        "plt.title(\"GOOGLE - Accuracies\")\n",
        "plt.xticks(range(2), ['LSTM', 'ARIMA'])\n",
        "plt.show()"
      ],
      "execution_count": null,
      "outputs": []
    },
    {
      "cell_type": "markdown",
      "metadata": {
        "id": "ojUZUG4drCmt"
      },
      "source": [
        "**Conclusion**\n",
        "\n",
        "\n",
        "\n",
        "*  ARIMA model results are appreciable . \n",
        "*  As shown for both INFOSYS & TCS, ARIMA model offers better prediction accuracy with respect to LSTM and is relatively fast as well to LSTM, in terms of training/fitting time and complexity.\n",
        "*  ARIMA model predicts TCS to be better Stock than INFOSYS\n",
        "\n"
      ]
    }
  ]
}